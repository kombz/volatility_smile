{
 "cells": [
  {
   "cell_type": "code",
   "execution_count": 4,
   "metadata": {},
   "outputs": [],
   "source": [
    "import matplotlib.pyplot as plt\n",
    "from scipy.integrate import solve_ivp\n",
    "import numpy as np;\n",
    "\n",
    "def standardplot(xl,yl,ti):\n",
    "    plt.xlabel(xl)\n",
    "    plt.ylabel(yl)\n",
    "    plt.title(ti)\n",
    "    plt.grid(lw = 0.5)"
   ]
  },
  {
   "cell_type": "markdown",
   "metadata": {},
   "source": [
    "# ZABR implementation in Python\n",
    "\n",
    "See paper by Andreasen & Huge: http://janroman.dhis.org/finance/SABR/ZABR%20Andreasen.pdf.\n",
    "This is an implementation of the model to produce the volatility smile. The beauty about SABR model is the closed form solution for Black's implied volatilty with closed analytical formula. The ZABR model is presented in Andreasen & Huge 2011 is that straight-forward as it includes a ODE step tom compute Black's implied volatility but this is still signicinalty easier instead of heavy simulation work to compute Black's impliev volatilty (IV).\n",
    "\n",
    "The function input parameters are\n",
    "   - S: At-the-money \n",
    "   - K_data: a list of three elemets: lower strike, upper strike, difference strike\n",
    "   - alpha, beta , rho , epsi , gamma: model paramaters\n",
    "   - (iv_norm: If false then the function returns the log-normal implied volatility (Black's). The normal vol has not yet been implemented)\n",
    " \n",
    " The return value of the function is a matrix (numpy array) with first columns being set of strikes and second column being corresponding IV"
   ]
  },
  {
   "cell_type": "code",
   "execution_count": 5,
   "metadata": {},
   "outputs": [],
   "source": [
    "def zabr_smile( S, K_data, alpha, beta , rho , epsi , gamma, iv_norm = False):\n",
    "    # this generates the implied volatilities for a given data set \n",
    "    # the notation is the one given in the original article by Andreasen & Huge\n",
    "    # the IV_norm should indicate whether it is normal vol or log-normal\n",
    "    # but normal has not been implemented yet\n",
    "    Kl = K_data[0]; Ku =  K_data[1]; delta =  K_data[2]\n",
    "    \n",
    "    if abs(Kl- Ku)<0.0000001:\n",
    "        K = np.array([Kl]) # strike        \n",
    "    else:\n",
    "        K = np.linspace(Kl,Ku, int((Ku-Kl)/delta) +1 )  # strike        \n",
    "    \n",
    "    nK = len(K)\n",
    "    nu = np.zeros((nK));\n",
    "    impvol = np.zeros((nK));\n",
    "    f = np.zeros(len(K));   # f(y) and not f\n",
    "\n",
    "    adjepsi = epsi*alpha**(1-gamma) ## to match SABR's\n",
    "    \n",
    "    \n",
    "    if beta == 1:\n",
    "        y = alpha**(gamma-2)*np.log(S/K)\n",
    "    else:\n",
    "        y = (S**(1-beta)-K**(1-beta))/(1-beta)*alpha**(gamma-2);\n",
    "    \n",
    "    def A(y): return 1+(gamma-2)**2*adjepsi**2*y**2+2*rho*(gamma-2)*adjepsi*y \n",
    "    def B(y): return 2*rho*(1-gamma)*adjepsi+2*(1-gamma)*(gamma-2)*adjepsi**2*y;\n",
    "    C = (1-gamma)**2*adjepsi**2;\n",
    "    \n",
    "    f0 = 0; \n",
    "    y0 = 0;\n",
    "    \n",
    "    # analytical integral value\n",
    "    for i in range(nK):\n",
    "        if K[i]==S:\n",
    "            f[i] = 0;\n",
    "            atm_pos = i \n",
    "        else:\n",
    "            def odefun(t,f):return 0.5*(-B(t)*f+np.sqrt(B(t)**2*f**2-4*A(t)*(C*f**2-1)))/A(t);\n",
    "            sol = solve_ivp(odefun, [y0,y[i]], [f0] )\n",
    "            f[i]   = sol.y[0,-1]\n",
    "            f0      = f[i]\n",
    "            y0      = y[i]\n",
    "#            print(i)\n",
    "    x               = alpha**(1-gamma)*f;\n",
    "    nu              = (S-K)/x\n",
    "    nubar           = np.log(S/K)/x\n",
    "    \n",
    "\n",
    "    for i in range(nK):\n",
    "        if K[i]==S:\n",
    "            atm_pos = i\n",
    "            nu[atm_pos]     = S**beta*alpha;\n",
    "            nubar[atm_pos]  = alpha*S**(beta-1);\n",
    "    \n",
    "    ret     = np.zeros((2,nK))\n",
    "    ret[0]  = K\n",
    "    if iv_norm == False:        \n",
    "        ret[1]  = nubar\n",
    "    else:\n",
    "        ret[1]  = nubar        \n",
    "    return ret"
   ]
  },
  {
   "cell_type": "markdown",
   "metadata": {},
   "source": [
    "The results for some given paramaters are shown below. The greek letters are the same as in the article. $\\gamma=1$ yields the same model as SABR."
   ]
  },
  {
   "cell_type": "code",
   "execution_count": 7,
   "metadata": {},
   "outputs": [
    {
     "name": "stderr",
     "output_type": "stream",
     "text": [
      "<ipython-input-5-beb798b62ab6>:46: RuntimeWarning: invalid value encountered in true_divide\n",
      "  nu              = (S-K)/x\n",
      "<ipython-input-5-beb798b62ab6>:47: RuntimeWarning: invalid value encountered in true_divide\n",
      "  nubar           = np.log(S/K)/x\n",
      "<ipython-input-5-beb798b62ab6>:46: RuntimeWarning: invalid value encountered in true_divide\n",
      "  nu              = (S-K)/x\n",
      "<ipython-input-5-beb798b62ab6>:47: RuntimeWarning: invalid value encountered in true_divide\n",
      "  nubar           = np.log(S/K)/x\n",
      "<ipython-input-5-beb798b62ab6>:46: RuntimeWarning: invalid value encountered in true_divide\n",
      "  nu              = (S-K)/x\n",
      "<ipython-input-5-beb798b62ab6>:47: RuntimeWarning: invalid value encountered in true_divide\n",
      "  nubar           = np.log(S/K)/x\n",
      "<ipython-input-5-beb798b62ab6>:46: RuntimeWarning: invalid value encountered in true_divide\n",
      "  nu              = (S-K)/x\n",
      "<ipython-input-5-beb798b62ab6>:47: RuntimeWarning: invalid value encountered in true_divide\n",
      "  nubar           = np.log(S/K)/x\n"
     ]
    },
    {
     "data": {
      "image/png": "[encoded data removed]",
      "text/plain": [
       "<Figure size 432x288 with 1 Axes>"
      ]
     },
     "metadata": {
      "needs_background": "light"
     },
     "output_type": "display_data"
    }
   ],
   "source": [
    "alpha = 0.0873; beta = 0.7;  # ZABR parameter                    \n",
    "rho = -0.48; epsi =v= 0.47;    # ZABR parameter\n",
    "gamma_ = [0,0.5,1,1.5]   # ZABR parameter\n",
    "S = 0.0325; t = T = 10;          # derivative parameters                      \n",
    "K_data =[0.0025, 0.2,0.0025]  # strikes\n",
    "\n",
    "\n",
    "for i in range(len(gamma_)):\n",
    "    run = zabr_smile( S, K_data, alpha, beta , rho , epsi , gamma_[i])\n",
    "    plt.plot(run[0],run[1], label=\"gamma=\"+str(gamma_[i]))\n",
    "plt.legend()\n",
    "standardplot(\"strike\", \"Black's implied vol\", \"ZABR smile for different gamma\")\n",
    "\n"
   ]
  },
  {
   "cell_type": "markdown",
   "metadata": {},
   "source": [
    "(someday i'll fix the runtime warning. it does not have an impact on the final result.)"
   ]
  },
  {
   "cell_type": "code",
   "execution_count": null,
   "metadata": {},
   "outputs": [],
   "source": []
  }
 ],
 "metadata": {
  "kernelspec": {
   "display_name": "Python 3",
   "language": "python",
   "name": "python3"
  },
  "language_info": {
   "codemirror_mode": {
    "name": "ipython",
    "version": 3
   },
   "file_extension": ".py",
   "mimetype": "text/x-python",
   "name": "python",
   "nbconvert_exporter": "python",
   "pygments_lexer": "ipython3",
   "version": "3.8.5"
  }
 },
 "nbformat": 4,
 "nbformat_minor": 4
}
